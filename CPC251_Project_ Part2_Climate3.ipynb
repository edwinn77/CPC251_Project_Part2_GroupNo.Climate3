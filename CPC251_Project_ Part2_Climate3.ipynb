{
 "cells": [
  {
   "cell_type": "markdown",
   "metadata": {},
   "source": [
    "#### Instruction (Read this)\n",
    "- Use this template to develop your project. Do not change the steps. \n",
    "- For each step, you may add additional cells if needed.\n",
    "- But remove <b>unnecessary</b> cells to ensure the notebook is readable.\n",
    "- Marks will be <b>deducted</b> if the notebook is cluttered or difficult to follow due to excess or irrelevant content.\n",
    "- <b>Briefly</b> describe the steps in the \"Description:\" field.\n",
    "- <b>Do not</b> submit the dataset. \n",
    "- The submitted jupyter notebook will be executed using the uploaded dataset in eLearn."
   ]
  },
  {
   "cell_type": "markdown",
   "metadata": {},
   "source": [
    "#### Group Information\n",
    "\n",
    "Group No: Climate3\n",
    "\n",
    "- Member 1: Edwin Chia Yi Yang\n",
    "- Member 2: Hong JingLong\n",
    "- Member 3: Hong Soon Chuan Jarren\n",
    "- Member 4: Tan Wei Yi"
   ]
  },
  {
   "cell_type": "markdown",
   "metadata": {},
   "source": [
    "#### Import libraries"
   ]
  },
  {
   "cell_type": "code",
   "execution_count": 14,
   "metadata": {},
   "outputs": [],
   "source": [
    "%config Completer.use_jedi=False # comment if not needed\n",
    "import pandas as pd\n",
    "import numpy as np\n",
    "from sklearn.model_selection import train_test_split, GridSearchCV, RandomizedSearchCV\n",
    "from sklearn.preprocessing import StandardScaler, LabelEncoder, OneHotEncoder\n",
    "from sklearn.feature_selection import SelectKBest, f_classif\n",
    "from sklearn.metrics import (\n",
    "    accuracy_score, recall_score, precision_score, \n",
    "    f1_score, confusion_matrix, classification_report, \n",
    "    r2_score, mean_squared_error, mean_absolute_error\n",
    ")\n",
    "from sklearn.linear_model import LogisticRegression\n",
    "from sklearn.neural_network import MLPClassifier\n",
    "from sklearn.impute import SimpleImputer\n",
    "from sklearn.pipeline import Pipeline\n",
    "from sklearn.compose import ColumnTransformer\n",
    "from sklearn.ensemble import RandomForestClassifier\n",
    "from sklearn.base import BaseEstimator, TransformerMixin\n",
    "import matplotlib.pyplot as plt\n",
    "import seaborn as sns\n",
    "from scipy.stats import uniform, randint"
   ]
  },
  {
   "cell_type": "markdown",
   "metadata": {},
   "source": [
    "#### Load the dataset"
   ]
  },
  {
   "cell_type": "code",
   "execution_count": 15,
   "metadata": {},
   "outputs": [
    {
     "name": "stdout",
     "output_type": "stream",
     "text": [
      "Study                   0\n",
      "Run                     0\n",
      "vconst_corr             0\n",
      "vconst_2                0\n",
      "vconst_3                0\n",
      "vconst_4                0\n",
      "vconst_5                0\n",
      "vconst_7                0\n",
      "ah_corr                 0\n",
      "ah_bolus                0\n",
      "slm_corr                0\n",
      "efficiency_factor       0\n",
      "tidal_mix_max           0\n",
      "vertical_decay_scale    0\n",
      "convect_corr            0\n",
      "bckgrnd_vdc1            0\n",
      "bckgrnd_vdc_ban         0\n",
      "bckgrnd_vdc_eq          0\n",
      "bckgrnd_vdc_psim        0\n",
      "Prandtl                 0\n",
      "outcome                 0\n",
      "dtype: int64\n"
     ]
    }
   ],
   "source": [
    "# Load the dataset\n",
    "df = pd.read_csv('climate.csv')\n",
    "\n",
    "# Check for missing values\n",
    "print(df.isnull().sum())\n",
    "\n",
    "# Split the dataset into features and target variable\n",
    "X = df.drop(columns=['outcome'])\n",
    "y = df['outcome']\n",
    "\n",
    "# Label encode the target variable\n",
    "label_encoder = LabelEncoder()\n",
    "y = label_encoder.fit_transform(y)"
   ]
  },
  {
   "cell_type": "markdown",
   "metadata": {},
   "source": [
    "#### Split the dataset\n",
    "Split the dataset into training, validation and test sets."
   ]
  },
  {
   "cell_type": "code",
   "execution_count": 16,
   "metadata": {},
   "outputs": [],
   "source": [
    "# Split the dataset into training, validation and testing sets\n",
    "X_train_val, X_test, y_train_val, y_test = train_test_split(X, y, test_size=0.2, random_state=42)\n",
    "X_train, X_val, y_train, y_val = train_test_split(X_train_val, y_train_val, test_size=0.125, random_state=42)  # 0.125 * 0.8 = 0.1"
   ]
  },
  {
   "cell_type": "markdown",
   "metadata": {},
   "source": [
    "### Data Preprocessing\n",
    "Perform data preprocessing such as normalization, standardization, and encoding to prepare the dataset for modeling.\n",
    "\n",
    "### Identifying Numerical and Categorical Columns:\n",
    "- Numerical Columns Identification: Identifies columns with numerical data types (int64, float64) in the dataset. These columns are stored in the numerical_cols list.\n",
    "- Categorical Columns Identification: Identifies columns with categorical data types (object) in the dataset. These columns are stored in the categorical_cols list.\n",
    "\n",
    "### Removing the Target Variable:\n",
    "- Exclude Target from Features: Ensures the target variable (outcome) is not included in the features list (numerical_cols and categorical_cols). This step is necessary because the target variable should not be used as a feature in the model.\n",
    "\n",
    "### Defining Transformers:\n",
    "- Numerical Transformer:\n",
    "\n",
    "    - Imputation: Missing values in numerical columns are imputed using the mean value of each column.\n",
    "    - Standardization: Numerical columns are standardized using StandardScaler to have a mean of 0 and a standard deviation of 1.\n",
    "- Categorical Transformer:\n",
    "\n",
    "    - Imputation: Missing values in categorical columns are imputed using the most frequent value of each column.\n",
    "    - Encoding: Categorical columns are converted into numerical format using OneHotEncoder, which creates binary columns for each category.\n",
    "    \n",
    "### Combining Transformers into a Preprocessor:\n",
    "- ColumnTransformer: Combines the numerical and categorical transformers into a single preprocessor. This allows different transformations to be applied to numerical and categorical features within the dataset in a unified manner.\n",
    "\n",
    "### Applying Transformations:\n",
    "- Fit and Transform Training Data: The preprocessor is fit on the training data (X_train) and applied to transform it. This step learns the required transformations from the training data and applies them.\n",
    "\n",
    "- Transform Validation and Test Data: The preprocessor, already fitted on the training data, is applied to the validation (X_val) and test (X_test) datasets to ensure they undergo the same transformations as the training data.\n",
    "\n",
    "### Standardizing Features:\n",
    "- StandardScaler: Although standardization is already part of the numerical transformer, an additional standardization step is applied to ensure all features are standardized. This step:\n",
    "    - Fit and Transform Training Data: Fits the StandardScaler on the training data and transforms it to ensure numerical features have a mean of 0 and a standard deviation of 1.\n",
    "    - Transform Validation and Test Data: Transforms the validation and test datasets to match the standardized scale of the training data.\n",
    "    \n",
    "### Summary\n",
    "- Numerical Columns: Imputed with mean and standardized.\n",
    "- Categorical Columns: Imputed with the most frequent value and one-hot encoded.\n",
    "- Unified Transformation: Uses ColumnTransformer to apply these transformations in a unified manner across the dataset.\n",
    "- Standardization: Ensures numerical features are standardized across training, validation, and test sets."
   ]
  },
  {
   "cell_type": "code",
   "execution_count": 17,
   "metadata": {},
   "outputs": [],
   "source": [
    "# Identify numerical and categorical columns\n",
    "numerical_cols = df.select_dtypes(include=['int64', 'float64']).columns.tolist()\n",
    "categorical_cols = df.select_dtypes(include=['object']).columns.tolist()\n",
    "\n",
    "# Ensure 'outcome' is not included in the features\n",
    "target_variable = 'outcome' \n",
    "if 'outcome' in numerical_cols:\n",
    "    numerical_cols.remove('outcome')\n",
    "if 'outcome' in categorical_cols:\n",
    "    categorical_cols.remove('outcome')\n",
    "\n",
    "# Define transformers for numerical and categorical features\n",
    "numerical_transformer = Pipeline(steps=[\n",
    "    ('imputer', SimpleImputer(strategy='mean')),\n",
    "    ('scaler', StandardScaler())\n",
    "])\n",
    "\n",
    "categorical_transformer = Pipeline(steps=[\n",
    "    ('imputer', SimpleImputer(strategy='most_frequent')),\n",
    "    ('onehot', OneHotEncoder(handle_unknown='ignore'))\n",
    "])\n",
    "\n",
    "# Combine transformers into a preprocessor\n",
    "preprocessor = ColumnTransformer(\n",
    "    transformers=[\n",
    "        ('num', numerical_transformer, numerical_cols),\n",
    "        ('cat', categorical_transformer, categorical_cols)\n",
    "    ])\n",
    "\n",
    "\n",
    "# Apply transformations to the datasets\n",
    "X_train = preprocessor.fit_transform(X_train)\n",
    "X_val = preprocessor.transform(X_val)\n",
    "X_test = preprocessor.transform(X_test)\n",
    "\n",
    "\n",
    "# Standardize the features\n",
    "scaler = StandardScaler()\n",
    "X_train = scaler.fit_transform(X_train)\n",
    "X_val = scaler.transform(X_val)\n",
    "X_test = scaler.transform(X_test)\n"
   ]
  },
  {
   "cell_type": "markdown",
   "metadata": {},
   "source": [
    "### Feature Selection\n",
    "\n",
    "### Defining Feature Names:\n",
    "- Feature Names: Lists the names of all the features in the dataset. This is important for understanding the context of the features when evaluating their importance.\n",
    "\n",
    "### Training a Random Forest Classifier:\n",
    "- Create and Fit Model: A Random Forest Classifier is created and fitted to the training data. This step is crucial as the model will be used to determine the importance of each feature.\n",
    "\n",
    "### Evaluating Feature Importances:\n",
    "- Feature Importances: After training the model, the feature importances are extracted. This array indicates how important each feature is in predicting the target variable.\n",
    "\n",
    "### Visualizing Feature Importances:\n",
    "- Visualization: A bar plot is created to visualize the importance of each feature. Features are sorted in descending order of importance, and their names are arranged accordingly for clarity.\n",
    "\n",
    "### Implementing Feature Selector:\n",
    "- Feature Selector Class: A custom transformer class, FeatureSelector, is defined. This class selects the top num_features based on their importance scores.\n",
    "\n",
    "### Applying Feature Selector:\n",
    "- Select Top Features: The FeatureSelector transformer is instantiated with the calculated feature importances and the desired number of top features. It is then applied to the training, validation, and test datasets to retain only the selected top features.\n",
    "\n",
    "### Summary\n",
    "- Feature Names: Provides context for feature importances.\n",
    "- Training Model: Uses Random Forest to determine feature importances.\n",
    "- Extract and Sort Importances: Retrieves and sorts feature importances.\n",
    "- Visualization: Creates a bar plot to visualize the importance of each feature.\n",
    "- Feature Selection Transformer: Defines a transformer to select top features.\n",
    "- Apply Feature Selection: Selects and transforms datasets to retain top features."
   ]
  },
  {
   "cell_type": "code",
   "execution_count": 18,
   "metadata": {},
   "outputs": [
    {
     "data": {
      "image/png": "[encoded data removed]",
      "text/plain": [
       "<Figure size 1000x600 with 1 Axes>"
      ]
     },
     "metadata": {},
     "output_type": "display_data"
    }
   ],
   "source": [
    "# Feature names\n",
    "feature_names = ['Study', 'Run', 'vconst_corr', 'vconst_2', 'vconst_3', 'vconst_4', 'vconst_5', 'vconst_7', 'ah_corr', 'ah_bolus', 'slm_corr', 'efficiency_factor', 'tidal_mix_max', 'vertical_decay_scale', 'convect_corr', 'bckgrnd_vdc1', 'bckgrnd_vdc_ban', 'bckgrnd_vdc_eq', 'bckgrnd_vdc_psim', 'Prandtl']\n",
    "\n",
    "# Create a Random Forest Classifier\n",
    "rf_model = RandomForestClassifier(random_state=42)\n",
    "\n",
    "# Fit the model\n",
    "rf_model.fit(X_train, y_train)\n",
    "\n",
    "# Get feature importances\n",
    "importances = rf_model.feature_importances_\n",
    "\n",
    "# Sort feature importances in descending order\n",
    "indices = np.argsort(importances)[::-1]\n",
    "\n",
    "# Rearrange feature names so they match the sorted feature importances\n",
    "names = [feature_names[i] for i in indices]\n",
    "\n",
    "# Create plot\n",
    "plt.figure(figsize=(10, 6))\n",
    "plt.bar(range(X_train.shape[1]), importances[indices])\n",
    "plt.xticks(range(X_train.shape[1]), names, rotation=90)\n",
    "plt.xlabel('Features')\n",
    "plt.ylabel('Importance')\n",
    "plt.title('Feature Importance')\n",
    "plt.show()\n",
    "\n",
    "class FeatureSelector(BaseEstimator, TransformerMixin):\n",
    "    def __init__(self, feature_importances, num_features):\n",
    "        self.feature_importances = feature_importances\n",
    "        self.num_features = num_features\n",
    "    \n",
    "    def fit(self, X, y=None):\n",
    "        return self\n",
    "    \n",
    "    def transform(self, X):\n",
    "        # Select top 'num_features' indices\n",
    "        indices = np.argsort(self.feature_importances)[::-1][:self.num_features]\n",
    "        return X[:, indices]\n",
    "    \n",
    "\n",
    "    # Apply the Feature Selector\n",
    "num_features = 10  # Choose the number of top features to select\n",
    "selector = FeatureSelector(importances, num_features)\n",
    "X_train_selected = selector.transform(X_train)\n",
    "X_val_selected = selector.transform(X_val)\n",
    "X_test_selected = selector.transform(X_test)"
   ]
  },
  {
   "cell_type": "markdown",
   "metadata": {},
   "source": [
    "#### Data modeling\n",
    "Build the machine learning models. You must build atleast two (2) predictive models. One of the predictive models must be either Neural Network or Fuzzy Logic System.\n",
    "______________________________________________________________________________________\n",
    "Description: Building Logistic Regression and Neural Network models.\n"
   ]
  },
  {
   "cell_type": "markdown",
   "metadata": {},
   "source": [
    "## Logistic Regression Model \n",
    "In this section, we define and perform hyperparameter tuning for a Logistic Regression model using GridSearchCV. This involves specifying a range of values for several hyperparameters and using cross-validation to evaluate the model performance for each combination of parameters. \n",
    "\n",
    "### Hyperparameters:\n",
    "- C: The inverse of regularization strength.\n",
    "- solver: The algorithm to use in the optimization problem.\n",
    "- fit_intercept: Whether to add a constant (bias or intercept) to the decision function.\n",
    "- class_weight: Weights associated with classes.\n",
    "- max_iter: Maximum number of iterations for the solvers to converge.\n",
    "- multi_class: If the option chosen is 'ovr', then a binary problem is fit for each label, with the option ['ovr'].\n",
    "- tol: Tolerance for stopping criteria.\n",
    "\n",
    "### Process\n",
    "1. Model Initialization: Initialize the LogisticRegression model with a fixed random state for reproducibility.\n",
    "2. Parameter Grid Definition: Define a dictionary param_grid_lr that includes all hyperparameters and their respective ranges.\n",
    "3. Grid Search Initialization: Create a GridSearchCV object to perform exhaustive search over the specified parameter grid, using 5-fold cross-validation and the F1 score as the evaluation metric.\n",
    "4. Model Fitting: Fit the GridSearchCV object on the training data to find the best hyperparameters.\n",
    "5. Best Model Extraction: Extract the best model (best_log_reg) and print the best hyperparameters found during the search."
   ]
  },
  {
   "cell_type": "code",
   "execution_count": 19,
   "metadata": {},
   "outputs": [
    {
     "name": "stdout",
     "output_type": "stream",
     "text": [
      "Best parameters found:  {'C': 1, 'class_weight': None, 'fit_intercept': True, 'max_iter': 1000, 'multi_class': 'ovr', 'solver': 'lbfgs', 'tol': 0.0001}\n"
     ]
    }
   ],
   "source": [
    "log_reg = LogisticRegression(random_state=42)\n",
    "param_grid_lr = {\n",
    "    'C': [0.1, 1, 10],\n",
    "    'solver': ['liblinear', 'lbfgs'],\n",
    "    'fit_intercept': [True, False],\n",
    "    'class_weight': [None, 'balanced'],\n",
    "    'max_iter': [1000, 2000],\n",
    "    'multi_class': ['ovr'],\n",
    "    'tol': [1e-4, 1e-3]\n",
    "}\n",
    "grid_search_lr = GridSearchCV(log_reg, param_grid_lr, cv=5, scoring='f1')\n",
    "grid_search_lr.fit(X_train, y_train)\n",
    "best_log_reg = grid_search_lr.best_estimator_\n",
    "print(\"Best parameters found: \", grid_search_lr.best_params_)"
   ]
  },
  {
   "cell_type": "markdown",
   "metadata": {},
   "source": [
    "## Neural Network Model\n",
    "In this section, we perform hyperparameter tuning for a Neural Network model using RandomizedSearchCV. This involves specifying a range of values for several hyperparameters and randomly sampling a fixed number of parameter settings from the specified distributions. The process also includes scaling the data using a pipeline to ensure consistent preprocessing. \n",
    "\n",
    "### Hyperparameters:\n",
    "- hidden_layer_sizes: Number of neurons in the ith hidden layer.\n",
    "- activation: Activation function for the hidden layer.\n",
    "- solver: The solver for weight optimization, with options.\n",
    "- alpha: L2 penalty (regularization term) parameter, uniformly sampled between 0.0001 and 0.1.\n",
    "- learning_rate: Learning rate schedule for weight updates.\n",
    "- learning_rate_init: Initial learning rate, uniformly sampled between 0.001 and 0.01.\n",
    "\n",
    "### Process:\n",
    "1. Pipeline Creation: Create a pipeline that includes data scaling with StandardScaler followed by the MLPClassifier.\n",
    "2. Parameter Distributions Definition: Define a dictionary param_dist_mlp that includes all hyperparameters and their respective distributions.\n",
    "3. Randomized Search Initialization: Create a RandomizedSearchCV object to randomly sample 100 parameter settings from the specified distributions, using 5-fold cross-validation and the F1 score as the evaluation metric. Set n_jobs=-1 to use all available CPU cores and verbose=1 to enable progress updates.\n",
    "4. Model Fitting: Fit the RandomizedSearchCV object on the training data to find the best hyperparameters.\n",
    "5. Best Model Extraction: Extract the best model (best_mlp) and print the best hyperparameters found during the search."
   ]
  },
  {
   "cell_type": "code",
   "execution_count": 20,
   "metadata": {},
   "outputs": [
    {
     "name": "stdout",
     "output_type": "stream",
     "text": [
      "Fitting 5 folds for each of 100 candidates, totalling 500 fits\n",
      "Best parameters found:  {'mlp__activation': 'tanh', 'mlp__alpha': 0.0680844779900246, 'mlp__hidden_layer_sizes': (150,), 'mlp__learning_rate': 'constant', 'mlp__learning_rate_init': 0.0033823615240397946, 'mlp__solver': 'lbfgs'}\n"
     ]
    }
   ],
   "source": [
    "# Define parameter distributions for RandomizedSearchCV\n",
    "param_dist_mlp = {\n",
    "    'mlp__hidden_layer_sizes': [(50,), (100,), (150,)],\n",
    "    'mlp__activation': ['tanh', 'relu'],\n",
    "    'mlp__solver': ['adam', 'lbfgs'],\n",
    "    'mlp__alpha': uniform(0.0001, 0.1),\n",
    "    'mlp__learning_rate': ['constant', 'adaptive'],\n",
    "    'mlp__learning_rate_init': uniform(0.001, 0.01)\n",
    "}\n",
    "\n",
    "# Create a pipeline that scales the data then fits the model\n",
    "pipeline = Pipeline([\n",
    "    ('scaler', StandardScaler()),\n",
    "    ('mlp', MLPClassifier(max_iter=2000, random_state=42))\n",
    "])\n",
    "\n",
    "# Use RandomizedSearchCV with parallel computation\n",
    "random_search_mlp = RandomizedSearchCV(\n",
    "    pipeline, \n",
    "    param_distributions=param_dist_mlp, \n",
    "    n_iter=100, \n",
    "    cv=5, \n",
    "    scoring='f1', \n",
    "    n_jobs=-1, \n",
    "    random_state=42,\n",
    "    verbose=1  \n",
    ")\n",
    "\n",
    "random_search_mlp.fit(X_train, y_train)\n",
    "best_mlp = random_search_mlp.best_estimator_\n",
    "\n",
    "print(\"Best parameters found: \", random_search_mlp.best_params_)"
   ]
  },
  {
   "cell_type": "markdown",
   "metadata": {},
   "source": [
    "#### Evaluate the models\n",
    "Perform a comparison between the predictive models. <br>\n",
    "Report the accuracy, recall, precision and F1-score measures as well as the confusion matrix if it is a classification problem. <br>\n",
    "Report the R2 score, mean squared error and mean absolute error if it is a regression problem.\n",
    "______________________________________________________________________________________\n",
    "Description: Evaluating models on validation data and reporting performance metrics.\n"
   ]
  },
  {
   "cell_type": "code",
   "execution_count": 21,
   "metadata": {},
   "outputs": [],
   "source": [
    "# Logistic Regression Evaluation\n",
    "y_pred_log_reg = best_log_reg.predict(X_val)\n",
    "accuracy_log_reg = accuracy_score(y_val, y_pred_log_reg)\n",
    "recall_log_reg = recall_score(y_val, y_pred_log_reg)\n",
    "precision_log_reg = precision_score(y_val, y_pred_log_reg)\n",
    "f1_log_reg = f1_score(y_val, y_pred_log_reg)\n",
    "conf_matrix_log_reg = confusion_matrix(y_val, y_pred_log_reg)\n",
    "\n",
    "# Neural Network Evaluation\n",
    "y_pred_mlp = best_mlp.predict(X_val)\n",
    "accuracy_mlp = accuracy_score(y_val, y_pred_mlp)\n",
    "recall_mlp = recall_score(y_val, y_pred_mlp)\n",
    "precision_mlp = precision_score(y_val, y_pred_mlp)\n",
    "f1_mlp = f1_score(y_val, y_pred_mlp)\n",
    "conf_matrix_mlp = confusion_matrix(y_val, y_pred_mlp)"
   ]
  },
  {
   "cell_type": "code",
   "execution_count": 31,
   "metadata": {},
   "outputs": [
    {
     "name": "stdout",
     "output_type": "stream",
     "text": [
      "Validating set:\n",
      "Logistic Regression:\n",
      "Accuracy: 0.9629629629629629\n",
      "Recall: 1.0\n",
      "Precision: 0.9607843137254902\n",
      "F1 Score: 0.98\n",
      "Confusion Matrix:\n",
      " [[ 3  2]\n",
      " [ 0 49]]\n",
      "\n",
      "Neural Network:\n",
      "Accuracy: 0.9629629629629629\n",
      "Recall: 1.0\n",
      "Precision: 0.9607843137254902\n",
      "F1 Score: 0.98\n",
      "Confusion Matrix:\n",
      " [[ 3  2]\n",
      " [ 0 49]]\n"
     ]
    }
   ],
   "source": [
    "# Report the metrics\n",
    "print('Validating set:')\n",
    "print(\"Logistic Regression:\")\n",
    "print(f\"Accuracy: {accuracy_log_reg}\")\n",
    "print(f\"Recall: {recall_log_reg}\")\n",
    "print(f\"Precision: {precision_log_reg}\")\n",
    "print(f\"F1 Score: {f1_log_reg}\")\n",
    "print(f\"Confusion Matrix:\\n {conf_matrix_log_reg}\")\n",
    "\n",
    "print(\"\\nNeural Network:\")\n",
    "print(f\"Accuracy: {accuracy_mlp}\")\n",
    "print(f\"Recall: {recall_mlp}\")\n",
    "print(f\"Precision: {precision_mlp}\")\n",
    "print(f\"F1 Score: {f1_mlp}\")\n",
    "print(f\"Confusion Matrix:\\n {conf_matrix_mlp}\")"
   ]
  },
  {
   "cell_type": "markdown",
   "metadata": {},
   "source": [
    "## Comparison of the Validation Set between Two Predictive Models\n",
    "\n",
    "Since we are work on classification problem, thus we will compare the result using the accuracy, recall, precision, F1 score as well as confision metrics:\n",
    "\n",
    "### Accuracy: \n",
    "Both models have the same high accuracy of 96.3%, indicating that they correctly classify the vast majority of instances.\n",
    "\n",
    "### Recall: \n",
    "Both models have perfect recall (1.0) for the positive class (1), meaning they correctly identified all positive instances.\n",
    "\n",
    "### Precision: \n",
    "The precision for the positive class (1) is 0.96 for both models, indicating that most of the instances classified as positive are indeed positive.\n",
    "\n",
    "### F1 Score: \n",
    "The F1 score for the positive class (1) is 0.98 for both models, which is a balance between precision and recall.\n",
    "\n",
    "### Confusion Matrix:\n",
    "Confusion matrix are also identical for both models with the following results:\n",
    "True Positives (TP): 49 (correctly classified as class 1)\n",
    "True Negatives (TN): 3 (correctly classified as class 0)\n",
    "False Positives (FP): 2 (incorrectly classified as class 1)\n",
    "False Negatives (FN): 0 (incorrectly classified as class 0)\n",
    "\n",
    "### Classification Report:\n",
    "Both models perform identically across all metrics in the classification report. This indicates that their performance on the validation set is equivalent\n",
    "\n",
    "### Comparison & Justification\n",
    "Both the Logistic Regression and Neural Network models have shown identical performance across all key metrics (accuracy, recall, precision, and F1 score) on the validation set. This indicates that, given the current dataset and its characteristics, both models are equally effective in classifying the target variable.\n",
    "\n",
    "Given the identical performance of both models, the choice between Logistic Regression and Neural Networks should consider additional factors such as interpretability, computational resources, and deployment ease. Logistic Regression offers simplicity and interpretability, making it a strong candidate for many applications. On the other hand, Neural Networks provide flexibility and the ability to model complex relationships, which might be beneficial for more intricate datasets. Further validation and exploration of ensemble methods and advanced feature engineering could provide deeper insights and potentially improve model performance."
   ]
  },
  {
   "cell_type": "code",
   "execution_count": 24,
   "metadata": {},
   "outputs": [],
   "source": [
    "# Logistic Regression Test Set Evaluation\n",
    "# Make predictions on the test set using the Logistic Regression model\n",
    "y_pred_log_reg_test = best_log_reg.predict(X_test)\n",
    "\n",
    "# Calculate evaluation metrics for Logistic Regression on the test set\n",
    "accuracy_log_reg_test = accuracy_score(y_test, y_pred_log_reg_test)  # Accuracy\n",
    "recall_log_reg_test = recall_score(y_test, y_pred_log_reg_test)  # Recall\n",
    "precision_log_reg_test = precision_score(y_test, y_pred_log_reg_test)  # Precision\n",
    "f1_log_reg_test = f1_score(y_test, y_pred_log_reg_test)  # F1 Score\n",
    "conf_matrix_log_reg_test = confusion_matrix(y_test, y_pred_log_reg_test)  # Confusion Matrix\n",
    "\n",
    "# Neural Network Test Set Evaluation\n",
    "# Make predictions on the test set using the Neural Network model\n",
    "y_pred_mlp_test = best_mlp.predict(X_test)\n",
    "\n",
    "# Calculate evaluation metrics for Neural Network on the test set\n",
    "accuracy_mlp_test = accuracy_score(y_test, y_pred_mlp_test)  # Accuracy\n",
    "recall_mlp_test = recall_score(y_test, y_pred_mlp_test)  # Recall\n",
    "precision_mlp_test = precision_score(y_test, y_pred_mlp_test)  # Precision\n",
    "f1_mlp_test = f1_score(y_test, y_pred_mlp_test)  # F1 Score\n",
    "conf_matrix_mlp_test = confusion_matrix(y_test, y_pred_mlp_test)  # Confusion Matrix"
   ]
  },
  {
   "cell_type": "code",
   "execution_count": 25,
   "metadata": {},
   "outputs": [
    {
     "name": "stdout",
     "output_type": "stream",
     "text": [
      "Test Set Evaluation:\n",
      "\n",
      "Logistic Regression:\n",
      "Accuracy: 0.9351851851851852\n",
      "Recall: 0.9693877551020408\n",
      "Precision: 0.9595959595959596\n",
      "F1 Score: 0.964467005076142\n",
      "Confusion Matrix:\n",
      " [[ 6  4]\n",
      " [ 3 95]]\n",
      "\n",
      "Neural Network:\n",
      "Accuracy: 0.9351851851851852\n",
      "Recall: 0.9489795918367347\n",
      "Precision: 0.9789473684210527\n",
      "F1 Score: 0.9637305699481866\n",
      "Confusion Matrix:\n",
      " [[ 8  2]\n",
      " [ 5 93]]\n"
     ]
    }
   ],
   "source": [
    "# Report Test Set Metrics\n",
    "print(\"Test Set Evaluation:\\n\")\n",
    "\n",
    "print(\"Logistic Regression:\")\n",
    "print(f\"Accuracy: {accuracy_log_reg_test}\")\n",
    "print(f\"Recall: {recall_log_reg_test}\")\n",
    "print(f\"Precision: {precision_log_reg_test}\")\n",
    "print(f\"F1 Score: {f1_log_reg_test}\")\n",
    "print(f\"Confusion Matrix:\\n {conf_matrix_log_reg_test}\")\n",
    "\n",
    "print(\"\\nNeural Network:\")\n",
    "print(f\"Accuracy: {accuracy_mlp_test}\")\n",
    "print(f\"Recall: {recall_mlp_test}\")\n",
    "print(f\"Precision: {precision_mlp_test}\")\n",
    "print(f\"F1 Score: {f1_mlp_test}\")\n",
    "print(f\"Confusion Matrix:\\n {conf_matrix_mlp_test}\")"
   ]
  },
  {
   "cell_type": "markdown",
   "metadata": {},
   "source": [
    "## Comparison of the Testing Set between Two Predictive Models\n",
    "\n",
    "Since we are work on classification problem, thus we will compare the result using the accuracy, recall, precision, F1 score as well as confision metrics:\n",
    "\n",
    "### Accuracy: \n",
    "Both models have the same accuracy of 0.9352, indicating they correctly classified the same proportion of samples\n",
    "\n",
    "### Recall: \n",
    "Logistic Regression has a slightly higher recall, meaning it was slightly better at identifying positive cases (True Positives)\n",
    "\n",
    "### Precision: \n",
    "The Neural Network has a higher precision, indicating fewer false positives compared to Logistic Regression.\n",
    "\n",
    "### F1 Score: \n",
    "Both models have nearly identical F1 Scores, indicating a balance between precision and recall.\n",
    "\n",
    "### Confusion Matrix:\n",
    "Logistic Regression has fewer false negatives (3) compared to the Neural Network (5), meaning it missed fewer positive cases.\n",
    "Neural Network has fewer false positives (2) compared to Logistic Regression (4), meaning it incorrectly classified fewer negative cases as positive.\n",
    "\n",
    "\n",
    "### Comparison & Justification: \n",
    "Both models exhibit very similar performance across all metrics on the test set, suggesting that they are equally effective at handling the given classification problem. The slight differences in recall and precision balance each other out, leading to nearly identical F1 Scores and overall accuracy.\n",
    "\n",
    "However, there do have some specific strengths for both logistic egression model and neural network model for this context：\n",
    "For logistic regression, higher recall suggests it is slightly better at detecting all positive cases, making it useful in applications where missing a positive case is costly.\n",
    "Slightly higher false positive rate may be acceptable in contexts where the cost of a false positive is lower than a false negative.\n",
    "\n",
    "For neural network, higher precision suggests it is slightly better at ensuring that positive classifications are correct, making it useful in applications where the cost of false positives is high.\n",
    "Slightly higher false negative rate may be acceptable in contexts where missing a positive case is less critical than incorrectly classifying a negative case.\n",
    "\n",
    "In general, logistic regression is suitable if the primary concern is to minimize the false negetives and ensure all positive cases are detected while neural network is suitable when the primary concern is to minimize the false positives and ensure that positive classifications is truely positive."
   ]
  },
  {
   "cell_type": "code",
   "execution_count": null,
   "metadata": {},
   "outputs": [],
   "source": []
  }
 ],
 "metadata": {
  "kernelspec": {
   "display_name": "Python 3 (ipykernel)",
   "language": "python",
   "name": "python3"
  },
  "language_info": {
   "codemirror_mode": {
    "name": "ipython",
    "version": 3
   },
   "file_extension": ".py",
   "mimetype": "text/x-python",
   "name": "python",
   "nbconvert_exporter": "python",
   "pygments_lexer": "ipython3",
   "version": "3.11.7"
  }
 },
 "nbformat": 4,
 "nbformat_minor": 4
}
