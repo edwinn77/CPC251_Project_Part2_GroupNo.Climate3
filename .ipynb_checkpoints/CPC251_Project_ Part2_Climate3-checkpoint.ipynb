{
 "cells": [
  {
   "cell_type": "markdown",
   "metadata": {},
   "source": [
    "#### Instruction (Read this)\n",
    "- Use this template to develop your project. Do not change the steps. \n",
    "- For each step, you may add additional cells if needed.\n",
    "- But remove <b>unnecessary</b> cells to ensure the notebook is readable.\n",
    "- Marks will be <b>deducted</b> if the notebook is cluttered or difficult to follow due to excess or irrelevant content.\n",
    "- <b>Briefly</b> describe the steps in the \"Description:\" field.\n",
    "- <b>Do not</b> submit the dataset. \n",
    "- The submitted jupyter notebook will be executed using the uploaded dataset in eLearn."
   ]
  },
  {
   "cell_type": "markdown",
   "metadata": {},
   "source": [
    "#### Group Information\n",
    "\n",
    "Group No: Climate3\n",
    "\n",
    "- Member 1: Edwin Chia Yi Yang\n",
    "- Member 2: Hong JingLong\n",
    "- Member 3: Hong Soon Chuan Jarren\n",
    "- Member 4: Tan Wei Yi"
   ]
  },
  {
   "cell_type": "markdown",
   "metadata": {},
   "source": [
    "#### Import libraries"
   ]
  },
  {
   "cell_type": "code",
   "execution_count": 1,
   "metadata": {},
   "outputs": [],
   "source": [
    "%config Completer.use_jedi=False # comment if not needed\n",
    "import pandas as pd\n",
    "import numpy as np\n",
    "from sklearn.model_selection import train_test_split, GridSearchCV\n",
    "from sklearn.preprocessing import StandardScaler, LabelEncoder\n",
    "from sklearn.feature_selection import SelectKBest, f_classif\n",
    "from sklearn.metrics import accuracy_score, recall_score, precision_score, f1_score, confusion_matrix, classification_report\n",
    "from sklearn.linear_model import LogisticRegression\n",
    "from sklearn.neural_network import MLPClassifier\n",
    "from sklearn.preprocessing import StandardScaler, LabelEncoder, OneHotEncoder\n",
    "from sklearn.impute import SimpleImputer\n",
    "from sklearn.pipeline import Pipeline\n",
    "from sklearn.compose import ColumnTransformer\n",
    "from sklearn.ensemble import RandomForestClassifier\n",
    "from sklearn.base import BaseEstimator, TransformerMixin\n",
    "import matplotlib.pyplot as plt\n",
    "import seaborn as sns"
   ]
  },
  {
   "cell_type": "markdown",
   "metadata": {},
   "source": [
    "#### Load the dataset"
   ]
  },
  {
   "cell_type": "code",
   "execution_count": 2,
   "metadata": {},
   "outputs": [
    {
     "name": "stdout",
     "output_type": "stream",
     "text": [
      "Study                   0\n",
      "Run                     0\n",
      "vconst_corr             0\n",
      "vconst_2                0\n",
      "vconst_3                0\n",
      "vconst_4                0\n",
      "vconst_5                0\n",
      "vconst_7                0\n",
      "ah_corr                 0\n",
      "ah_bolus                0\n",
      "slm_corr                0\n",
      "efficiency_factor       0\n",
      "tidal_mix_max           0\n",
      "vertical_decay_scale    0\n",
      "convect_corr            0\n",
      "bckgrnd_vdc1            0\n",
      "bckgrnd_vdc_ban         0\n",
      "bckgrnd_vdc_eq          0\n",
      "bckgrnd_vdc_psim        0\n",
      "Prandtl                 0\n",
      "outcome                 0\n",
      "dtype: int64\n"
     ]
    }
   ],
   "source": [
    "# Load the dataset\n",
    "df = pd.read_csv('climate.csv')\n",
    "\n",
    "# Check for missing values\n",
    "print(df.isnull().sum())\n",
    "\n",
    "# Split the dataset into features and target variable\n",
    "X = df.drop(columns=['outcome'])\n",
    "y = df['outcome']\n",
    "\n",
    "# Label encode the target variable\n",
    "label_encoder = LabelEncoder()\n",
    "y = label_encoder.fit_transform(y)"
   ]
  },
  {
   "cell_type": "markdown",
   "metadata": {},
   "source": [
    "#### Split the dataset\n",
    "Split the dataset into training, validation and test sets."
   ]
  },
  {
   "cell_type": "code",
   "execution_count": 3,
   "metadata": {},
   "outputs": [],
   "source": [
    "# Split the dataset into training, validation and testing sets\n",
    "X_train_val, X_test, y_train_val, y_test = train_test_split(X, y, test_size=0.2, random_state=42)\n",
    "X_train, X_val, y_train, y_val = train_test_split(X_train_val, y_train_val, test_size=0.125, random_state=42)  # 0.125 * 0.8 = 0.1"
   ]
  },
  {
   "cell_type": "markdown",
   "metadata": {},
   "source": [
    "#### Data preprocessing\n",
    "Perform data preprocessing such as normalization, standardization, label encoding etc.\n",
    "______________________________________________________________________________________\n",
    "Description: Standardizing the features to have mean=0 and variance=1.\n"
   ]
  },
  {
   "cell_type": "code",
   "execution_count": 4,
   "metadata": {},
   "outputs": [],
   "source": [
    "# Identify numerical and categorical columns\n",
    "numerical_cols = df.select_dtypes(include=['int64', 'float64']).columns.tolist()\n",
    "categorical_cols = df.select_dtypes(include=['object']).columns.tolist()\n",
    "\n",
    "# Ensure 'outcome' is not included in the features\n",
    "if 'outcome' in numerical_cols:\n",
    "    numerical_cols.remove('outcome')\n",
    "if 'outcome' in categorical_cols:\n",
    "    categorical_cols.remove('outcome')\n",
    "\n",
    "# Define transformers for numerical and categorical features\n",
    "numerical_transformer = Pipeline(steps=[\n",
    "    ('imputer', SimpleImputer(strategy='mean')),\n",
    "    ('scaler', StandardScaler())\n",
    "])\n",
    "\n",
    "categorical_transformer = Pipeline(steps=[\n",
    "    ('imputer', SimpleImputer(strategy='most_frequent')),\n",
    "    ('onehot', OneHotEncoder(handle_unknown='ignore'))\n",
    "])\n",
    "\n",
    "# Combine transformers into a preprocessor\n",
    "preprocessor = ColumnTransformer(\n",
    "    transformers=[\n",
    "        ('num', numerical_transformer, numerical_cols),\n",
    "        ('cat', categorical_transformer, categorical_cols)\n",
    "    ])\n",
    "\n",
    "\n",
    "# Apply transformations to the datasets\n",
    "X_train = preprocessor.fit_transform(X_train)\n",
    "X_val = preprocessor.transform(X_val)\n",
    "X_test = preprocessor.transform(X_test)\n",
    "\n",
    "\n",
    "# Standardize the features\n",
    "scaler = StandardScaler()\n",
    "X_train = scaler.fit_transform(X_train)\n",
    "X_val = scaler.transform(X_val)\n",
    "X_test = scaler.transform(X_test)"
   ]
  },
  {
   "cell_type": "markdown",
   "metadata": {},
   "source": [
    "#### Feature Selection\n",
    "Perform feature selection to select the relevant features.\n",
    "______________________________________________________________________________________\n",
    "Description: Using SelectKBest to select top features based on ANOVA F-value.\n"
   ]
  },
  {
   "cell_type": "code",
   "execution_count": 5,
   "metadata": {},
   "outputs": [
    {
     "data": {
      "image/png": "[encoded data removed]",
      "text/plain": [
       "<Figure size 1000x600 with 1 Axes>"
      ]
     },
     "metadata": {},
     "output_type": "display_data"
    }
   ],
   "source": [
    "# Feature names\n",
    "feature_names = ['Study', 'Run', 'vconst_corr', 'vconst_2', 'vconst_3', 'vconst_4', 'vconst_5', 'vconst_7', 'ah_corr', 'ah_bolus', 'slm_corr', 'efficiency_factor', 'tidal_mix_max', 'vertical_decay_scale', 'convect_corr', 'bckgrnd_vdc1', 'bckgrnd_vdc_ban', 'bckgrnd_vdc_eq', 'bckgrnd_vdc_psim', 'Prandtl']\n",
    "\n",
    "# Create a Random Forest Classifier\n",
    "rf_model = RandomForestClassifier(random_state=42)\n",
    "\n",
    "# Fit the model\n",
    "rf_model.fit(X_train, y_train)\n",
    "\n",
    "# Get feature importances\n",
    "importances = rf_model.feature_importances_\n",
    "\n",
    "# Sort feature importances in descending order\n",
    "indices = np.argsort(importances)[::-1]\n",
    "\n",
    "# Rearrange feature names so they match the sorted feature importances\n",
    "names = [feature_names[i] for i in indices]\n",
    "\n",
    "# Create plot\n",
    "plt.figure(figsize=(10, 6))\n",
    "plt.bar(range(X_train.shape[1]), importances[indices])\n",
    "plt.xticks(range(X_train.shape[1]), names, rotation=90)\n",
    "plt.xlabel('Features')\n",
    "plt.ylabel('Importance')\n",
    "plt.title('Feature Importance')\n",
    "plt.show()\n",
    "\n",
    "class FeatureSelector(BaseEstimator, TransformerMixin):\n",
    "    def __init__(self, feature_importances, num_features):\n",
    "        self.feature_importances = feature_importances\n",
    "        self.num_features = num_features\n",
    "    \n",
    "    def fit(self, X, y=None):\n",
    "        return self\n",
    "    \n",
    "    def transform(self, X):\n",
    "        # Select top 'num_features' indices\n",
    "        indices = np.argsort(self.feature_importances)[::-1][:self.num_features]\n",
    "        return X[:, indices]"
   ]
  },
  {
   "cell_type": "markdown",
   "metadata": {},
   "source": [
    "#### Data modeling\n",
    "Build the machine learning models. You must build atleast two (2) predictive models. One of the predictive models must be either Neural Network or Fuzzy Logic System.\n",
    "______________________________________________________________________________________\n",
    "Description: Building Logistic Regression and Neural Network models.\n"
   ]
  },
  {
   "cell_type": "code",
   "execution_count": 6,
   "metadata": {},
   "outputs": [
    {
     "name": "stderr",
     "output_type": "stream",
     "text": [
      "C:\\Users\\user\\anaconda3\\lib\\site-packages\\sklearn\\neural_network\\_multilayer_perceptron.py:684: ConvergenceWarning: Stochastic Optimizer: Maximum iterations (1000) reached and the optimization hasn't converged yet.\n",
      "  warnings.warn(\n",
      "C:\\Users\\user\\anaconda3\\lib\\site-packages\\sklearn\\neural_network\\_multilayer_perceptron.py:684: ConvergenceWarning: Stochastic Optimizer: Maximum iterations (1000) reached and the optimization hasn't converged yet.\n",
      "  warnings.warn(\n"
     ]
    }
   ],
   "source": [
    "# Logistic Regression Model with hyperparameter tuning\n",
    "log_reg = LogisticRegression(random_state=42)\n",
    "param_grid_lr = {'C': [0.01, 0.1, 1, 10, 100], 'solver': ['liblinear']}\n",
    "grid_search_lr = GridSearchCV(log_reg, param_grid_lr, cv=5, scoring='f1')\n",
    "grid_search_lr.fit(X_train, y_train)\n",
    "best_log_reg = grid_search_lr.best_estimator_\n",
    "\n",
    "# Neural Network Model with hyperparameter tuning\n",
    "mlp = MLPClassifier(max_iter=1000, random_state=42)\n",
    "param_grid_mlp = {\n",
    "    'hidden_layer_sizes': [(50,), (100,), (150,)],\n",
    "    'activation': ['tanh', 'relu'],\n",
    "    'solver': ['sgd', 'adam'],\n",
    "    'alpha': [0.0001, 0.001, 0.01]\n",
    "}\n",
    "grid_search_mlp = GridSearchCV(mlp, param_grid_mlp, cv=5, scoring='f1')\n",
    "grid_search_mlp.fit(X_train, y_train)\n",
    "best_mlp = grid_search_mlp.best_estimator_"
   ]
  },
  {
   "cell_type": "markdown",
   "metadata": {},
   "source": [
    "#### Evaluate the models\n",
    "Perform a comparison between the predictive models. <br>\n",
    "Report the accuracy, recall, precision and F1-score measures as well as the confusion matrix if it is a classification problem. <br>\n",
    "Report the R2 score, mean squared error and mean absolute error if it is a regression problem.\n",
    "______________________________________________________________________________________\n",
    "Description: Evaluating models on validation data and reporting performance metrics.\n"
   ]
  },
  {
   "cell_type": "code",
   "execution_count": 7,
   "metadata": {},
   "outputs": [],
   "source": [
    "# Logistic Regression Evaluation\n",
    "y_pred_log_reg = best_log_reg.predict(X_val)\n",
    "accuracy_log_reg = accuracy_score(y_val, y_pred_log_reg)\n",
    "recall_log_reg = recall_score(y_val, y_pred_log_reg)\n",
    "precision_log_reg = precision_score(y_val, y_pred_log_reg)\n",
    "f1_log_reg = f1_score(y_val, y_pred_log_reg)\n",
    "conf_matrix_log_reg = confusion_matrix(y_val, y_pred_log_reg)\n",
    "\n",
    "# Neural Network Evaluation\n",
    "y_pred_mlp = best_mlp.predict(X_val)\n",
    "accuracy_mlp = accuracy_score(y_val, y_pred_mlp)\n",
    "recall_mlp = recall_score(y_val, y_pred_mlp)\n",
    "precision_mlp = precision_score(y_val, y_pred_mlp)\n",
    "f1_mlp = f1_score(y_val, y_pred_mlp)\n",
    "conf_matrix_mlp = confusion_matrix(y_val, y_pred_mlp)"
   ]
  },
  {
   "cell_type": "code",
   "execution_count": 8,
   "metadata": {},
   "outputs": [
    {
     "name": "stdout",
     "output_type": "stream",
     "text": [
      "Logistic Regression:\n",
      "Accuracy: 0.9629629629629629\n",
      "Recall: 1.0\n",
      "Precision: 0.9607843137254902\n",
      "F1 Score: 0.98\n",
      "Confusion Matrix:\n",
      " [[ 3  2]\n",
      " [ 0 49]]\n",
      "Classification Report:\n",
      "               precision    recall  f1-score   support\n",
      "\n",
      "           0       1.00      0.60      0.75         5\n",
      "           1       0.96      1.00      0.98        49\n",
      "\n",
      "    accuracy                           0.96        54\n",
      "   macro avg       0.98      0.80      0.86        54\n",
      "weighted avg       0.96      0.96      0.96        54\n",
      "\n",
      "\n",
      "Neural Network:\n",
      "Accuracy: 0.9629629629629629\n",
      "Recall: 1.0\n",
      "Precision: 0.9607843137254902\n",
      "F1 Score: 0.98\n",
      "Confusion Matrix:\n",
      " [[ 3  2]\n",
      " [ 0 49]]\n",
      "Classification Report:\n",
      "               precision    recall  f1-score   support\n",
      "\n",
      "           0       1.00      0.60      0.75         5\n",
      "           1       0.96      1.00      0.98        49\n",
      "\n",
      "    accuracy                           0.96        54\n",
      "   macro avg       0.98      0.80      0.86        54\n",
      "weighted avg       0.96      0.96      0.96        54\n",
      "\n"
     ]
    }
   ],
   "source": [
    "# Report the metrics\n",
    "print(\"Logistic Regression:\")\n",
    "print(f\"Accuracy: {accuracy_log_reg}\")\n",
    "print(f\"Recall: {recall_log_reg}\")\n",
    "print(f\"Precision: {precision_log_reg}\")\n",
    "print(f\"F1 Score: {f1_log_reg}\")\n",
    "print(f\"Confusion Matrix:\\n {conf_matrix_log_reg}\")\n",
    "print(f\"Classification Report:\\n {classification_report(y_val, y_pred_log_reg)}\")\n",
    "\n",
    "print(\"\\nNeural Network:\")\n",
    "print(f\"Accuracy: {accuracy_mlp}\")\n",
    "print(f\"Recall: {recall_mlp}\")\n",
    "print(f\"Precision: {precision_mlp}\")\n",
    "print(f\"F1 Score: {f1_mlp}\")\n",
    "print(f\"Confusion Matrix:\\n {conf_matrix_mlp}\")\n",
    "print(f\"Classification Report:\\n {classification_report(y_val, y_pred_mlp)}\")"
   ]
  },
  {
   "cell_type": "code",
   "execution_count": 9,
   "metadata": {},
   "outputs": [
    {
     "data": {
      "image/png": "[encoded data removed]",
      "text/plain": [
       "<Figure size 1200x600 with 4 Axes>"
      ]
     },
     "metadata": {},
     "output_type": "display_data"
    }
   ],
   "source": [
    "# Plot Confusion Matrix\n",
    "fig, ax = plt.subplots(1, 2, figsize=(12, 6))\n",
    "\n",
    "sns.heatmap(conf_matrix_log_reg, annot=True, fmt='d', ax=ax[0], cmap='Blues')\n",
    "ax[0].set_title('Logistic Regression Confusion Matrix')\n",
    "ax[0].set_xlabel('Predicted')\n",
    "ax[0].set_ylabel('Actual')\n",
    "\n",
    "sns.heatmap(conf_matrix_mlp, annot=True, fmt='d', ax=ax[1], cmap='Blues')\n",
    "ax[1].set_title('Neural Network Confusion Matrix')\n",
    "ax[1].set_xlabel('Predicted')\n",
    "ax[1].set_ylabel('Actual')\n",
    "\n",
    "plt.show()"
   ]
  },
  {
   "cell_type": "code",
   "execution_count": 10,
   "metadata": {},
   "outputs": [],
   "source": [
    "# Evaluate on Test Set\n",
    "\n",
    "# Logistic Regression Test Set Evaluation\n",
    "y_pred_log_reg_test = best_log_reg.predict(X_test)\n",
    "accuracy_log_reg_test = accuracy_score(y_test, y_pred_log_reg_test)\n",
    "recall_log_reg_test = recall_score(y_test, y_pred_log_reg_test)\n",
    "precision_log_reg_test = precision_score(y_test, y_pred_log_reg_test)\n",
    "f1_log_reg_test = f1_score(y_test, y_pred_log_reg_test)\n",
    "conf_matrix_log_reg_test = confusion_matrix(y_test, y_pred_log_reg_test)\n",
    "\n",
    "# Neural Network Test Set Evaluation\n",
    "y_pred_mlp_test = best_mlp.predict(X_test)\n",
    "accuracy_mlp_test = accuracy_score(y_test, y_pred_mlp_test)\n",
    "recall_mlp_test = recall_score(y_test, y_pred_mlp_test)\n",
    "precision_mlp_test = precision_score(y_test, y_pred_mlp_test)\n",
    "f1_mlp_test = f1_score(y_test, y_pred_mlp_test)\n",
    "conf_matrix_mlp_test = confusion_matrix(y_test, y_pred_mlp_test)"
   ]
  },
  {
   "cell_type": "code",
   "execution_count": 11,
   "metadata": {},
   "outputs": [
    {
     "name": "stdout",
     "output_type": "stream",
     "text": [
      "Test Set Evaluation:\n",
      "\n",
      "Logistic Regression:\n",
      "Accuracy: 0.9351851851851852\n",
      "Recall: 0.9693877551020408\n",
      "Precision: 0.9595959595959596\n",
      "F1 Score: 0.964467005076142\n",
      "Confusion Matrix:\n",
      " [[ 6  4]\n",
      " [ 3 95]]\n",
      "\n",
      "Neural Network:\n",
      "Accuracy: 0.9537037037037037\n",
      "Recall: 0.9897959183673469\n",
      "Precision: 0.9603960396039604\n",
      "F1 Score: 0.9748743718592964\n",
      "Confusion Matrix:\n",
      " [[ 6  4]\n",
      " [ 1 97]]\n"
     ]
    }
   ],
   "source": [
    "# Report Test Set Metrics\n",
    "print(\"Test Set Evaluation:\\n\")\n",
    "\n",
    "print(\"Logistic Regression:\")\n",
    "print(f\"Accuracy: {accuracy_log_reg_test}\")\n",
    "print(f\"Recall: {recall_log_reg_test}\")\n",
    "print(f\"Precision: {precision_log_reg_test}\")\n",
    "print(f\"F1 Score: {f1_log_reg_test}\")\n",
    "print(f\"Confusion Matrix:\\n {conf_matrix_log_reg_test}\")\n",
    "\n",
    "print(\"\\nNeural Network:\")\n",
    "print(f\"Accuracy: {accuracy_mlp_test}\")\n",
    "print(f\"Recall: {recall_mlp_test}\")\n",
    "print(f\"Precision: {precision_mlp_test}\")\n",
    "print(f\"F1 Score: {f1_mlp_test}\")\n",
    "print(f\"Confusion Matrix:\\n {conf_matrix_mlp_test}\")"
   ]
  }
 ],
 "metadata": {
  "kernelspec": {
   "display_name": "Python 3 (ipykernel)",
   "language": "python",
   "name": "python3"
  },
  "language_info": {
   "codemirror_mode": {
    "name": "ipython",
    "version": 3
   },
   "file_extension": ".py",
   "mimetype": "text/x-python",
   "name": "python",
   "nbconvert_exporter": "python",
   "pygments_lexer": "ipython3",
   "version": "3.10.9"
  }
 },
 "nbformat": 4,
 "nbformat_minor": 4
}
